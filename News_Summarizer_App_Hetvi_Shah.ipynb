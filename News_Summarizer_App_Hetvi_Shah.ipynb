{
 "cells": [
  {
   "cell_type": "markdown",
   "id": "566770d7",
   "metadata": {},
   "source": [
    "#### Name: Hetvi Shah\n",
    "#### Student ID: 041137738"
   ]
  },
  {
   "cell_type": "markdown",
   "id": "bdb51d07",
   "metadata": {},
   "source": [
    "## Project: Milestone - 2\n",
    "## Title: \"News Article Summarization App\" \n",
    "## Aim: To create an app that summerizes text related to news using Text Summarization which falls under NLP i.e. Natural Language Processing "
   ]
  },
  {
   "cell_type": "markdown",
   "id": "d0d5efb4",
   "metadata": {},
   "source": [
    "## In this project I have tried to summarize a news article published by Wtop News \n",
    "### url: \"https://wtop.com/sports/2024/03/robots-replicate-reality-high-tech-pitching-machine-mimics-every-pitcher/\""
   ]
  },
  {
   "cell_type": "markdown",
   "id": "f8d8c930",
   "metadata": {},
   "source": [
    "### Installing necessary libraries for summerization \n",
    "\n",
    "#### I have used 2 methods for summerizing news articles \n",
    "1. Sumy \n",
    "2. Summa\n",
    "\n",
    "#### Used streamlit library to launch my web application"
   ]
  },
  {
   "cell_type": "code",
   "execution_count": 1,
   "id": "109d9144",
   "metadata": {},
   "outputs": [],
   "source": [
    "#!pip install streamlit\n",
    "#!pip install sumy\n",
    "#!pip install summa"
   ]
  },
  {
   "cell_type": "markdown",
   "id": "b2e2de1b",
   "metadata": {},
   "source": [
    "### Importing necessary libraries"
   ]
  },
  {
   "cell_type": "code",
   "execution_count": 2,
   "id": "04c383f0",
   "metadata": {},
   "outputs": [],
   "source": [
    "import streamlit as st\n",
    "import time\n",
    "import requests\n",
    "from bs4 import BeautifulSoup\n",
    "from sumy.parsers.plaintext import PlaintextParser\n",
    "from sumy.nlp.tokenizers import Tokenizer\n",
    "from sumy.summarizers.lsa import LsaSummarizer\n",
    "from summa.summarizer import summarize as summa_summarize"
   ]
  },
  {
   "cell_type": "markdown",
   "id": "cb4577a7",
   "metadata": {},
   "source": [
    "### Creating function to scrape text from a URL"
   ]
  },
  {
   "cell_type": "code",
   "execution_count": 3,
   "id": "2661ef11",
   "metadata": {},
   "outputs": [],
   "source": [
    "def scrape_text(url):\n",
    "    req = requests.get(url)\n",
    "    soup_library = BeautifulSoup(req.content, 'html.parser')\n",
    "    paragraphs = soup_library.find_all('p')\n",
    "    text = ' '.join([p.text for p in paragraphs])\n",
    "    return text"
   ]
  },
  {
   "cell_type": "markdown",
   "id": "6f93c561",
   "metadata": {},
   "source": [
    "### Creating function to summarize text using Sumy"
   ]
  },
  {
   "cell_type": "code",
   "execution_count": 4,
   "id": "ca4c3c08",
   "metadata": {},
   "outputs": [],
   "source": [
    "def summarize_text_sumy(text, sentences_count=3):\n",
    "    parser = PlaintextParser.from_string(text, Tokenizer(\"english\"))\n",
    "    summarizer = LsaSummarizer()\n",
    "    start_time = time.time()\n",
    "    summary = summarizer(parser.document, sentences_count)\n",
    "    end_time = time.time()\n",
    "    summarized_text = ' '.join(str(sentence) for sentence in summary)\n",
    "    return summarized_text, end_time - start_time"
   ]
  },
  {
   "cell_type": "markdown",
   "id": "35e91e49",
   "metadata": {},
   "source": [
    "### Creating function to summarize text using Summa"
   ]
  },
  {
   "cell_type": "code",
   "execution_count": 5,
   "id": "02ed09d0",
   "metadata": {},
   "outputs": [],
   "source": [
    "def summarize_text_summa(text, ratio=0.2):\n",
    "    start_time = time.time()\n",
    "    summarized_text = summa_summarize(text, ratio=ratio)\n",
    "    end_time = time.time()\n",
    "    return summarized_text, end_time - start_time"
   ]
  },
  {
   "cell_type": "markdown",
   "id": "94f7f337",
   "metadata": {},
   "source": [
    "### Creating main function to print summarized output for both Sumy and Summa libraries"
   ]
  },
  {
   "cell_type": "code",
   "execution_count": 6,
   "id": "f22c67d6",
   "metadata": {},
   "outputs": [],
   "source": [
    "def print_summarized_output(url):\n",
    "    text = scrape_text(url)\n",
    "    \n",
    "    # Summarizing text using Sumy\n",
    "    print(\"Summarized Text (Sumy):\")\n",
    "    summary_sumy, time_sumy = summarize_text_sumy(text)\n",
    "    print(summary_sumy)\n",
    "    print(f\"Time taken (Sumy): {time_sumy} seconds\\n\")\n",
    "    \n",
    "    # Summarizing text using Summa\n",
    "    print(\"Summarized Text (Summa):\")\n",
    "    summary_summa, time_summa = summarize_text_summa(text)\n",
    "    print(summary_summa)\n",
    "    print(f\"Time taken (Summa): {time_summa} seconds\\n\")"
   ]
  },
  {
   "cell_type": "markdown",
   "id": "eee871ac",
   "metadata": {},
   "source": [
    "### Adding URL for testing"
   ]
  },
  {
   "cell_type": "code",
   "execution_count": 7,
   "id": "3779f724",
   "metadata": {},
   "outputs": [],
   "source": [
    "url = \"https://wtop.com/sports/2024/03/robots-replicate-reality-high-tech-pitching-machine-mimics-every-pitcher/\""
   ]
  },
  {
   "cell_type": "markdown",
   "id": "f2de708a",
   "metadata": {},
   "source": [
    "### Printing Summarized output for both Sumy and Summa libraries"
   ]
  },
  {
   "cell_type": "code",
   "execution_count": 8,
   "id": "b4cda5dc",
   "metadata": {},
   "outputs": [
    {
     "name": "stdout",
     "output_type": "stream",
     "text": [
      "Summarized Text (Sumy):\n",
      "Dodgers two-way star Shohei Ohtani said he used Trajekt to view his pitches from a different vantage point. Giovagnoli founded Master Pitching Machine in 1952, and its units with long metal arms became omnipresent throughout the majors. He became CEO of the new company founded in 2019 and recruited Rowan Ferrabee, a Waterloo mechatronics engineering student, to be chief technology officer.\n",
      "Time taken (Sumy): 0.38195323944091797 seconds\n",
      "\n",
      "Summarized Text (Summa):\n",
      "The Trajekt Arc pitching machine uses baseball’s high-tech data to mimic the way balls break from every big league pitcher and has been approved by Major League Baseball for in-game use this year in batting cages.\n",
      "You’re training their eyes,” Philadelphia hitting coach Kevin Long said.\n",
      "Each machine costs $15,000 to $20,000 a month as part of a three-year lease, an unimaginable leap forward from the pitching gun invented by Princeton mathematics professor Charles Howard Hinton in 1896 that looked like a 2 1/2-foot-long cannon.\n",
      "Spinball Sports’ iPitch Smart Machine retails for $14,000 and is programmed with 16 built-in pitchers with 140 pitches.\n",
      "“We had a theoretical modeling approach to how we could create a machine to replicate gyro spin,” Pope said.\n",
      "Working at Velocity, a startup hub in Kitchener, Ontario, from April 2019 to March 2020 — and then in the garage of Pope’s parents after the coronavirus pandemic began — they developed a machine that controls 11 of 12 degrees of freedom for pitches, maintaining only a fixed release point of 56 1/2 feet from the plate.\n",
      "Trajekt trains a team’s data and video staff and sends two people for installation, which takes a day or two.\n",
      "“It’s cool to see how far data driven baseball things have come,” Realmuto said.\n",
      "Analytics were going on 20 years ago, it’s just we didn’t really know how to understand it and how to transfer it into real time.” MLB began regulating on-field technology in 2016 and has approved six products for in-game, on-field use this year: 4D Motion’s kinematic/movement tracker, Catapult’s GPS tracker, STATSports’ GPS tracker, Pulse’s Motus Sleeve that measures biomechanics and heart monitors from WHOOP and Zephyr.\n",
      "It’s important to keep your eyes on emerging technologies but it requires a lot of work,” Phillies general manager Sam Fuld said.\n",
      "If there’s data associated with the tech, there’s a lot of bandwidth required to make meaning of that data.” ___ AP MLB: https://apnews.com/hub/mlb Copyright\n",
      "Time taken (Summa): 0.046526193618774414 seconds\n",
      "\n"
     ]
    }
   ],
   "source": [
    "print_summarized_output(url)"
   ]
  },
  {
   "cell_type": "markdown",
   "id": "fc3e33f3",
   "metadata": {},
   "source": [
    "###  Creating main function for Streamlit app"
   ]
  },
  {
   "cell_type": "markdown",
   "id": "628d51f7",
   "metadata": {},
   "source": [
    "#### Following are the steps which I have performed to create Main function for streamlit app\n",
    "    1. Setting title for the app\n",
    "    2. Adding field to enter URL\n",
    "    3. Scrape text from the provided URL\n",
    "    4. Summarizing text using Sumy\n",
    "    5. Summarizing text using Summa"
   ]
  },
  {
   "cell_type": "code",
   "execution_count": 9,
   "id": "2100d516",
   "metadata": {},
   "outputs": [],
   "source": [
    "def main():\n",
    "    \n",
    "    #Setting title for the app\n",
    "    st.title(\"News Article Summarization App\")\n",
    "    \n",
    "    #Adding field to enter URL\n",
    "    get_url = st.text_input(\"Enter the URL of the news article:\")\n",
    "    \n",
    "    if get_url:\n",
    "        text = scrape_text(get_url)\n",
    "\n",
    "        # Summarizing text using Sumy\n",
    "        st.subheader(\"Summarized Text (Sumy):\")\n",
    "        summary_sumy, time_sumy = summarize_text_sumy(text)\n",
    "        st.write(summary_sumy)\n",
    "        st.write(f\"Time taken: {time_sumy} seconds\")\n",
    "\n",
    "        # Summarizing text using Summa\n",
    "        st.subheader(\"Summarized Text (Summa):\")\n",
    "        summary_summa, time_summa = summarize_text_summa(text)\n",
    "        st.write(summary_summa)\n",
    "        st.write(f\"Time taken: {time_summa} seconds\")"
   ]
  },
  {
   "cell_type": "markdown",
   "id": "96a04200",
   "metadata": {},
   "source": [
    "### Running the main function"
   ]
  },
  {
   "cell_type": "code",
   "execution_count": 10,
   "id": "e68b5daf",
   "metadata": {},
   "outputs": [
    {
     "name": "stderr",
     "output_type": "stream",
     "text": [
      "2024-03-26 16:10:18.319 \n",
      "  \u001b[33m\u001b[1mWarning:\u001b[0m to view this Streamlit app on a browser, run it with the following\n",
      "  command:\n",
      "\n",
      "    streamlit run C:\\Users\\Owner\\anaconda3\\Lib\\site-packages\\ipykernel_launcher.py [ARGUMENTS]\n"
     ]
    }
   ],
   "source": [
    "if __name__ == \"__main__\":\n",
    "    main()"
   ]
  }
 ],
 "metadata": {
  "kernelspec": {
   "display_name": "Python 3 (ipykernel)",
   "language": "python",
   "name": "python3"
  },
  "language_info": {
   "codemirror_mode": {
    "name": "ipython",
    "version": 3
   },
   "file_extension": ".py",
   "mimetype": "text/x-python",
   "name": "python",
   "nbconvert_exporter": "python",
   "pygments_lexer": "ipython3",
   "version": "3.11.5"
  }
 },
 "nbformat": 4,
 "nbformat_minor": 5
}
